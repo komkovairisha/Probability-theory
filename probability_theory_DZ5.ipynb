{
 "cells": [
  {
   "cell_type": "markdown",
   "metadata": {},
   "source": [
    "# Урок 5. Домашнее задание\n",
    "\n",
    "## Проверка статистических гипотез. P-значения. Доверительные интервалы. A/B-тестирование"
   ]
  },
  {
   "cell_type": "code",
   "execution_count": 2,
   "metadata": {},
   "outputs": [],
   "source": [
    "import numpy as np\n",
    "import pandas as pd\n",
    "from scipy import stats"
   ]
  },
  {
   "cell_type": "markdown",
   "metadata": {},
   "source": [
    "### Задача 5.1\n",
    "\n",
    "Утверждается, что шарики для подшипников, изготовленные автоматическим станком, имеют средний диаметр 17 мм. Используя уровень значимости 0.025 и правостороннюю критическую область, проверить данную гипотезу при условии, что в выборке из 100 шариков средний диаметр оказался равным 17.5 мм, а дисперсия известна и равна 4 мм."
   ]
  },
  {
   "cell_type": "markdown",
   "metadata": {},
   "source": [
    "#### Решение:\n",
    "\n",
    "Гипотеза $H_0$: $M(X) = 17$, \n",
    "\n",
    "Гипотеза $H_1$: $M(X) = 17.5$, \n",
    "\n",
    "Уровень значимости $\\alpha = 0.025$ при правосторонней критической области $\\Omega_\\alpha = (t_{1 - \\alpha}, \\infty)$,\n",
    "\n",
    "Дисперсия $D(X) = 4$, \n",
    "\n",
    "n = 100,\n",
    "\n",
    "Из центральной предельной теоремы мы знаем как определяются $a$ и $\\sigma$:\n",
    "\n",
    "$a = M(X), \\text{ } \\sigma = \\sqrt {\\frac{D(X)}{n}}.$"
   ]
  },
  {
   "cell_type": "markdown",
   "metadata": {},
   "source": [
    "Поскольку выборка из 100 шариков распределена нормально, можно воспользоваться правилом двух сигм: значения диаметра шариков с вероятностью 0.95 попадают в интервал\n",
    "\n",
    "$\\left( 17 - 2 \\cdot \\sqrt{\\frac{D(X)}{n}}, 17 + 2 \\cdot \\sqrt{\\frac{D(X)}{n}} \\right).$\n",
    "\n",
    "Для нашего выбора $\\alpha$ интересует правосторонняя критическая область:\n",
    "\n",
    "$\\left( 17 + 2 \\cdot \\sqrt{\\frac{D(X)}{n}}, \\infty \\right)$\n",
    "\n",
    "Критическая область будет иметь вид:\n",
    "\n",
    "$\\left( 17.4, \\infty \\right)$"
   ]
  },
  {
   "cell_type": "markdown",
   "metadata": {},
   "source": [
    "#### Ответ:\n",
    "\n",
    "Так как выборочное среднее получилось 17.5 и оно попадает в критическую область, то утверждение производителя не подверждается."
   ]
  },
  {
   "cell_type": "markdown",
   "metadata": {},
   "source": [
    "### Задача 5.2\n",
    "\n",
    "Известно, что генеральная совокупность распределена нормально со средним квадратическим отклонением 16. Найти доверительный интервал для оценки математического ожидания __a__ с надежностью 0.95, если выборочное среднее равно 80, а объём равен 256."
   ]
  },
  {
   "cell_type": "markdown",
   "metadata": {},
   "source": [
    "#### Решение:\n",
    "\n",
    "Средне квадратическое отклонение генеральной совокупности $\\sigma = 16$, \n",
    "\n",
    "Объем выборки из генеральной совокупности $n = 256$,\n",
    "\n",
    "Выборочное среднее $m = 80$,\n",
    "\n",
    "Надежность = 0.95, т.е. можно использовать правило двух сигм,\n",
    "\n"
   ]
  },
  {
   "cell_type": "markdown",
   "metadata": {},
   "source": [
    "Найдем квантиль __t-распределения__ ($t_{1 - \\alpha/2, \\: n - 1}$) с помощью методов модуля `scipy.stats`:"
   ]
  },
  {
   "cell_type": "code",
   "execution_count": 26,
   "metadata": {},
   "outputs": [],
   "source": [
    "# n-1\n",
    "t_obj = stats.t(256 - 1)"
   ]
  },
  {
   "cell_type": "code",
   "execution_count": 27,
   "metadata": {},
   "outputs": [
    {
     "data": {
      "text/plain": [
       "1.9693105698491928"
      ]
     },
     "execution_count": 27,
     "metadata": {},
     "output_type": "execute_result"
    }
   ],
   "source": [
    "# 1 - alpha / 2\n",
    "t = t_obj.ppf(1 - 0.05 / 2)\n",
    "t"
   ]
  },
  {
   "cell_type": "markdown",
   "metadata": {},
   "source": [
    "Тогда по формуле:\n",
    "\n",
    "$\n",
    "P \\left( \n",
    "\\overline{X} - t_{1 - \\alpha/2, \\: n - 1} \\cdot \\dfrac{S}{\\sqrt{n}} \n",
    "\\leq M(X) \\leq\n",
    "\\overline{X} + t_{1 - \\alpha/2, \\: n - 1} \\cdot \\dfrac{S}{\\sqrt{n}} \n",
    "\\right) = 1 - \\alpha.\n",
    "$,\n",
    "\n",
    "доверительный интервал равен:"
   ]
  },
  {
   "cell_type": "code",
   "execution_count": 29,
   "metadata": {},
   "outputs": [
    {
     "data": {
      "text/plain": [
       "(78.0306894301508, 81.9693105698492)"
      ]
     },
     "execution_count": 29,
     "metadata": {},
     "output_type": "execute_result"
    }
   ],
   "source": [
    "s = 16\n",
    "n = 256\n",
    "m = 80\n",
    "\n",
    "(m - t * s / np.sqrt(n), m + t * s / np.sqrt(n))"
   ]
  },
  {
   "cell_type": "markdown",
   "metadata": {},
   "source": [
    "### Задача 5.3\n",
    "\n",
    "Продавец утверждает, что средний вес пачки печенья составляет 200 г. Из партии извлечена выборка из 10 пачек. Вес каждой пачки составляет:\n",
    "```\n",
    "202, 203, 199, 197, 195, 201, 200, 204, 194, 190\n",
    "```\n",
    "Известно, что их веса распределены нормально. Верно ли утверждение продавца, если учитывать, что доверительная вероятность равна 99%?"
   ]
  },
  {
   "cell_type": "markdown",
   "metadata": {},
   "source": [
    "#### Решение:\n",
    "\n",
    "$\n",
    "P \\left( \n",
    "\\overline{X} - t_{1 - \\alpha/2, \\: n - 1} \\cdot \\dfrac{S}{\\sqrt{n}} \n",
    "\\leq M(X) \\leq\n",
    "\\overline{X} + t_{1 - \\alpha/2, \\: n - 1} \\cdot \\dfrac{S}{\\sqrt{n}} \n",
    "\\right) = 1 - \\alpha.\n",
    "$"
   ]
  },
  {
   "cell_type": "code",
   "execution_count": 43,
   "metadata": {},
   "outputs": [],
   "source": [
    "n = 10\n",
    "alpha = 0.01\n",
    "\n",
    "samples = np.array([202, 203, 199, 197, 195, 201, 200, 204, 194, 190])"
   ]
  },
  {
   "cell_type": "code",
   "execution_count": 44,
   "metadata": {},
   "outputs": [
    {
     "data": {
      "text/plain": [
       "198.5"
      ]
     },
     "execution_count": 44,
     "metadata": {},
     "output_type": "execute_result"
    }
   ],
   "source": [
    "m = samples.mean()\n",
    "m"
   ]
  },
  {
   "cell_type": "code",
   "execution_count": 45,
   "metadata": {},
   "outputs": [
    {
     "data": {
      "text/plain": [
       "4.453463071962462"
      ]
     },
     "execution_count": 45,
     "metadata": {},
     "output_type": "execute_result"
    }
   ],
   "source": [
    "s = samples.std(ddof=1)\n",
    "s"
   ]
  },
  {
   "cell_type": "code",
   "execution_count": 46,
   "metadata": {},
   "outputs": [],
   "source": [
    "# n-1\n",
    "t_obj = stats.t(n - 1)"
   ]
  },
  {
   "cell_type": "code",
   "execution_count": 47,
   "metadata": {},
   "outputs": [
    {
     "data": {
      "text/plain": [
       "3.2498355440153697"
      ]
     },
     "execution_count": 47,
     "metadata": {},
     "output_type": "execute_result"
    }
   ],
   "source": [
    "# 1 - alpha / 2\n",
    "t = t_obj.ppf(1 - alpha / 2)\n",
    "t"
   ]
  },
  {
   "cell_type": "code",
   "execution_count": 48,
   "metadata": {},
   "outputs": [
    {
     "data": {
      "text/plain": [
       "(193.92322840036354, 203.07677159963646)"
      ]
     },
     "execution_count": 48,
     "metadata": {},
     "output_type": "execute_result"
    }
   ],
   "source": [
    "(m - t * s / np.sqrt(n), m + t * s / np.sqrt(n))"
   ]
  },
  {
   "cell_type": "markdown",
   "metadata": {},
   "source": [
    "#### Ответ:\n",
    "\n",
    "Утверждение продавца верно, т.к. оно попадает в доверительный интервал."
   ]
  },
  {
   "cell_type": "markdown",
   "metadata": {},
   "source": [
    "#### Комментарий:\n",
    "\n",
    "Юрий, вы в телеграмме писали, что эта задача не на доверительные интервалы и приложили обновление. Что то я совсем не понял как решать по такой формуле:\n",
    "\n",
    "$\\Omega_\\alpha = \\left( -\\infty, - t_{1 - \\alpha/2, \\: n - 1}, t_{1 - \\alpha/2, \\: n - 1}, \\infty \\right)$\n",
    "\n",
    "По ней критическая область получается: \n",
    "\n",
    "$\\Omega_\\alpha = \\left( -\\infty, - 3.2498; 3.2498, \\infty \\right)$\n",
    "\n",
    "И что в итоге это нам дает и как с этим работать - непонятно."
   ]
  },
  {
   "cell_type": "code",
   "execution_count": null,
   "metadata": {},
   "outputs": [],
   "source": []
  }
 ],
 "metadata": {
  "kernelspec": {
   "display_name": "Python 3",
   "language": "python",
   "name": "python3"
  },
  "language_info": {
   "codemirror_mode": {
    "name": "ipython",
    "version": 3
   },
   "file_extension": ".py",
   "mimetype": "text/x-python",
   "name": "python",
   "nbconvert_exporter": "python",
   "pygments_lexer": "ipython3",
   "version": "3.7.1"
  }
 },
 "nbformat": 4,
 "nbformat_minor": 2
}
